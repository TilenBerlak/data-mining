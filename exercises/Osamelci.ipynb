{
 "cells": [
  {
   "cell_type": "code",
   "execution_count": 3,
   "metadata": {},
   "outputs": [],
   "source": [
    "%matplotlib inline\n",
    "%config InlineBackend.figure_formats = ['jpg']\n",
    "import matplotlib\n",
    "matplotlib.figure.Figure.__repr__ = lambda self: (\n",
    "    f\"<{self.__class__.__name__} size {self.bbox.size[0]:g}\"\n",
    "    f\"x{self.bbox.size[1]:g} with {len(self.axes)} Axes>\")\n",
    "\n",
    "import matplotlib.pyplot as plt\n",
    "plt.style.use('PR.mplstyle')\n",
    "import numpy as np"
   ]
  },
  {
   "cell_type": "code",
   "execution_count": 6,
   "metadata": {},
   "outputs": [
    {
     "name": "stdout",
     "output_type": "stream",
     "text": [
      "velikost:  (23500, 100)\n",
      "skupno število ocen: 1708993\n"
     ]
    }
   ],
   "source": [
    "X = np.genfromtxt('podatki/jester-data.csv', delimiter=',')[:, 1:]\n",
    "X[np.where(X == 99)] = float(\"nan\") # neznanih vrednosti ne smemo upoštevati\n",
    "\n",
    "print(\"velikost: \", X.shape)\n",
    "print(\"skupno število ocen:\", X.size - np.sum(np.isnan(X)))"
   ]
  },
  {
   "cell_type": "code",
   "execution_count": 8,
   "metadata": {},
   "outputs": [
    {
     "data": {
      "text/plain": [
       "Text(0, 0.5, 'P(x)')"
      ]
     },
     "execution_count": 8,
     "metadata": {},
     "output_type": "execute_result"
    },
    {
     "data": {
      "image/jpeg": "[encoded data removed]",
      "text/plain": [
       "<Figure size 450x300 with 1 Axes>"
      ]
     },
     "metadata": {},
     "output_type": "display_data"
    }
   ],
   "source": [
    "data = X[np.isnan(X) == False]\n",
    "plt.hist(data, bins=100)\n",
    "plt.xlabel(\"x - Ocena šale\")\n",
    "plt.ylabel(\"P(x)\")"
   ]
  },
  {
   "cell_type": "code",
   "execution_count": 9,
   "metadata": {},
   "outputs": [
    {
     "data": {
      "text/plain": [
       "array([15507, 16954, 15755, 14901, 23498, 19154, 23497, 23497, 14988,\n",
       "       18943, 20480, 21019, 23499, 21205, 23499, 23497, 23499, 23497,\n",
       "       23497, 23498, 23471, 20177, 18706, 15188, 19502, 22383, 23438,\n",
       "       22551, 23467, 17002, 23204, 23481, 15774, 20372, 23486, 23499,\n",
       "       15941, 21481, 21870, 21039, 17599, 23202, 16656, 15472, 19974,\n",
       "       22208, 20875, 23333, 23492, 23499, 17795, 18752, 23498, 23240,\n",
       "       18589, 23328, 15212, 14913, 17212, 16814, 23401, 23461, 18927,\n",
       "       16439, 23304, 23458, 16576, 23459, 23446, 19100,  8164,  8288,\n",
       "        8231,  8392,  8393,  8513,  8551,  8494,  8586,  8643,  8712,\n",
       "        8799,  8865,  8892,  9054,  9057,  8953,  9148,  9098,  9309,\n",
       "        9314,  9432,  9530,  9660,  9756,  9890, 10082, 10180, 10310,\n",
       "        9547])"
      ]
     },
     "execution_count": 9,
     "metadata": {},
     "output_type": "execute_result"
    }
   ],
   "source": [
    "(np.isnan(X) == False).sum(axis=0)"
   ]
  },
  {
   "cell_type": "code",
   "execution_count": 10,
   "metadata": {},
   "outputs": [],
   "source": [
    "means     = []\n",
    "variances = []\n",
    "for i in range(X.shape[1]):\n",
    "    s = np.mean(X[:, i][np.isnan(X[:, i]) == False])\n",
    "    v = np.var(X[:, i][np.isnan(X[:, i]) == False])\n",
    "    means.append(s)\n",
    "    variances.append(v)"
   ]
  },
  {
   "cell_type": "code",
   "execution_count": 1,
   "metadata": {},
   "outputs": [
    {
     "ename": "NameError",
     "evalue": "name 'np' is not defined",
     "output_type": "error",
     "traceback": [
      "\u001b[0;31m----------------------------------------------------------------\u001b[0m",
      "\u001b[0;31mNameError\u001b[0m                      Traceback (most recent call last)",
      "\u001b[0;32m<ipython-input-1-9a8f12c221c3>\u001b[0m in \u001b[0;36m<module>\u001b[0;34m\u001b[0m\n\u001b[1;32m      8\u001b[0m \u001b[0msample\u001b[0m \u001b[0;34m=\u001b[0m \u001b[0mmvn\u001b[0m\u001b[0;34m.\u001b[0m\u001b[0mrvs\u001b[0m\u001b[0;34m(\u001b[0m\u001b[0mmu\u001b[0m\u001b[0;34m,\u001b[0m \u001b[0msigma2\u001b[0m\u001b[0;34m,\u001b[0m \u001b[0msize\u001b[0m\u001b[0;34m=\u001b[0m\u001b[0mn\u001b[0m\u001b[0;34m)\u001b[0m  \u001b[0;31m# naključen vzorec n primerov\u001b[0m\u001b[0;34m\u001b[0m\u001b[0;34m\u001b[0m\u001b[0m\n\u001b[1;32m      9\u001b[0m \u001b[0;34m\u001b[0m\u001b[0m\n\u001b[0;32m---> 10\u001b[0;31m \u001b[0mxr\u001b[0m \u001b[0;34m=\u001b[0m \u001b[0mnp\u001b[0m\u001b[0;34m.\u001b[0m\u001b[0mlinspace\u001b[0m\u001b[0;34m(\u001b[0m\u001b[0;34m-\u001b[0m\u001b[0;36m5\u001b[0m\u001b[0;34m,\u001b[0m \u001b[0;36m5\u001b[0m\u001b[0;34m,\u001b[0m \u001b[0;36m100\u001b[0m\u001b[0;34m)\u001b[0m               \u001b[0;31m# interval X\u001b[0m\u001b[0;34m\u001b[0m\u001b[0;34m\u001b[0m\u001b[0m\n\u001b[0m\u001b[1;32m     11\u001b[0m \u001b[0mP\u001b[0m  \u001b[0;34m=\u001b[0m \u001b[0;34m[\u001b[0m\u001b[0mmvn\u001b[0m\u001b[0;34m.\u001b[0m\u001b[0mpdf\u001b[0m\u001b[0;34m(\u001b[0m\u001b[0mx\u001b[0m\u001b[0;34m,\u001b[0m \u001b[0mmu\u001b[0m\u001b[0;34m,\u001b[0m \u001b[0msigma2\u001b[0m\u001b[0;34m)\u001b[0m \u001b[0;32mfor\u001b[0m \u001b[0mx\u001b[0m \u001b[0;32min\u001b[0m \u001b[0mxr\u001b[0m\u001b[0;34m]\u001b[0m  \u001b[0;31m# porazdelitvena funkcija\u001b[0m\u001b[0;34m\u001b[0m\u001b[0;34m\u001b[0m\u001b[0m\n\u001b[1;32m     12\u001b[0m \u001b[0;34m\u001b[0m\u001b[0m\n",
      "\u001b[0;31mNameError\u001b[0m: name 'np' is not defined"
     ]
    }
   ],
   "source": [
    "from scipy.stats import multivariate_normal as mvn \n",
    "\n",
    "# Parametri določajo obliko funkcije\n",
    "mu     = 0   # sredina\n",
    "sigma2 = 1   # varianca\n",
    "\n",
    "n = 500  # velikost vzorca\n",
    "sample = mvn.rvs(mu, sigma2, size=n)  # naključen vzorec n primerov\n",
    "\n",
    "xr = np.linspace(-5, 5, 100)               # interval X \n",
    "P  = [mvn.pdf(x, mu, sigma2) for x in xr]  # porazdelitvena funkcija\n",
    "\n",
    "# Histogram - porazdelitev naključnih VZORCEV x glede na P(x)\n",
    "plt.figure(figsize=(9, 3))\n",
    "plt.subplot(1, 2, 1)\n",
    "plt.title(\"vzorec\")\n",
    "plt.hist(sample)  # \n",
    "plt.xlabel(\"X\")\n",
    "plt.ylabel(\"število primerov\")\n",
    "\n",
    "# Graf porazdelitvene funkcije\n",
    "plt.subplot(1, 2, 2)\n",
    "plt.title(\"graf porazdelitve\")\n",
    "plt.plot(xr, P)   # nariši P(x)\n",
    "plt.ylabel(\"P(x)\")\n",
    "plt.xlabel(\"X\");"
   ]
  },
  {
   "cell_type": "code",
   "execution_count": null,
   "metadata": {},
   "outputs": [],
   "source": []
  }
 ],
 "metadata": {
  "kernelspec": {
   "display_name": "Python 3",
   "language": "python",
   "name": "python3"
  },
  "language_info": {
   "codemirror_mode": {
    "name": "ipython",
    "version": 3
   },
   "file_extension": ".py",
   "mimetype": "text/x-python",
   "name": "python",
   "nbconvert_exporter": "python",
   "pygments_lexer": "ipython3",
   "version": "3.6.9"
  }
 },
 "nbformat": 4,
 "nbformat_minor": 4
}
